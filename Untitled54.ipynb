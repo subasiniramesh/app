{
  "nbformat": 4,
  "nbformat_minor": 0,
  "metadata": {
    "colab": {
      "provenance": []
    },
    "kernelspec": {
      "name": "python3",
      "display_name": "Python 3"
    },
    "language_info": {
      "name": "python"
    }
  },
  "cells": [
    {
      "cell_type": "code",
      "execution_count": 1,
      "metadata": {
        "colab": {
          "base_uri": "https://localhost:8080/"
        },
        "id": "a0jBfFBc2yUN",
        "outputId": "4b265d69-1149-4dba-fe75-c0c3ac46973a"
      },
      "outputs": [
        {
          "output_type": "stream",
          "name": "stdout",
          "text": [
            "Mounted at /content/drive\n"
          ]
        }
      ],
      "source": [
        "from google.colab import drive\n",
        "drive.mount('/content/drive')"
      ]
    },
    {
      "cell_type": "code",
      "source": [
        "import streamlit as st\n",
        "from PIL import Image\n",
        "import numpy as np\n",
        "from tensorflow.keras.preprocessing import image\n",
        "from tensorflow.keras.models import load_model\n",
        "\n",
        "# Load the models\n",
        "first_model_path = '/content/drive/MyDrive/test/INCC AND RESNET.2ALL_dataaugment_final_model.h5'\n",
        "first_model = load_model(first_model_path)\n",
        "\n",
        "microcalcification_model_path = '/content/drive/MyDrive/test/SEPMICROinceptionresnetv2_1.h5'\n",
        "microcalcification_model = load_model(microcalcification_model_path)\n",
        "\n",
        "mass_model_path = '/content/drive/MyDrive/test/sepmassXception_1.h5'\n",
        "mass_model = load_model(mass_model_path)\n",
        "\n",
        "def classify_image(img):\n",
        "    # Preprocess the image\n",
        "    img = img.resize((224, 224))  # Resize the image to match the model's input size\n",
        "    img_array = image.img_to_array(img)\n",
        "    img_array = np.expand_dims(img_array, axis=0)\n",
        "\n",
        "    # Initial classification using the first model\n",
        "    initial_prediction = first_model.predict(img_array)\n",
        "    initial_class = np.argmax(initial_prediction)\n",
        "    classes = {0: 'mass', 1: 'microcalcification', 2: 'normal'}\n",
        "    initial_class_label = classes[initial_class]\n",
        "\n",
        "    # If the initial classification is 'normal,' return the result\n",
        "    if initial_class_label == 'normal':\n",
        "        return initial_class_label\n",
        "\n",
        "    # Otherwise, proceed to the second model for microcalcification classification\n",
        "    if initial_class_label == 'microcalcification':\n",
        "        microcalcification_prediction = microcalcification_model.predict(img_array)\n",
        "        microcalcification_class = np.argmax(microcalcification_prediction)\n",
        "        benign_malignant = {0: 'benign', 1: 'malignant'}\n",
        "        microcalcification_class_label = benign_malignant[microcalcification_class]\n",
        "\n",
        "        # Combine the initial classification and microcalcification prediction for the final result\n",
        "        final_result = f\"{initial_class_label} {microcalcification_class_label}\"\n",
        "        return final_result\n",
        "\n",
        "    # Otherwise, proceed to the third model for mass classification\n",
        "    if initial_class_label == 'mass':\n",
        "        mass_prediction = mass_model.predict(img_array)\n",
        "        mass_class = np.argmax(mass_prediction)\n",
        "        benign_malignant = {0: 'benign', 1: 'malignant'}\n",
        "        mass_class_label = benign_malignant[mass_class]\n",
        "\n",
        "        # Combine the initial classification and mass prediction for the final result\n",
        "        final_result = f\"{initial_class_label} {mass_class_label}\"\n",
        "        return final_result\n",
        "\n",
        "# Streamlit app\n",
        "st.title('Breast Cancer Image Classifier')\n",
        "\n",
        "uploaded_file = st.file_uploader(\"Upload an image...\", type=[\"jpg\", \"png\", \"jpeg\"])\n",
        "\n",
        "if uploaded_file is not None:\n",
        "    # Display the uploaded image\n",
        "    image = Image.open(uploaded_file)\n",
        "    st.image(image, caption='Uploaded Image', use_column_width=True)\n",
        "\n",
        "    # Perform classification on the uploaded image\n",
        "    result = classify_image(image)\n",
        "    st.write(f\"Prediction: {result}\")\n"
      ],
      "metadata": {
        "colab": {
          "base_uri": "https://localhost:8080/",
          "height": 383
        },
        "id": "LG_BXeJq23Ra",
        "outputId": "0c0153bb-da2b-4327-ee31-8e0a869a56b9"
      },
      "execution_count": 2,
      "outputs": [
        {
          "output_type": "error",
          "ename": "ModuleNotFoundError",
          "evalue": "No module named 'streamlit'",
          "traceback": [
            "\u001b[0;31m---------------------------------------------------------------------------\u001b[0m",
            "\u001b[0;31mModuleNotFoundError\u001b[0m                       Traceback (most recent call last)",
            "\u001b[0;32m<ipython-input-2-e4a79e93901a>\u001b[0m in \u001b[0;36m<cell line: 1>\u001b[0;34m()\u001b[0m\n\u001b[0;32m----> 1\u001b[0;31m \u001b[0;32mimport\u001b[0m \u001b[0mstreamlit\u001b[0m \u001b[0;32mas\u001b[0m \u001b[0mst\u001b[0m\u001b[0;34m\u001b[0m\u001b[0;34m\u001b[0m\u001b[0m\n\u001b[0m\u001b[1;32m      2\u001b[0m \u001b[0;32mfrom\u001b[0m \u001b[0mPIL\u001b[0m \u001b[0;32mimport\u001b[0m \u001b[0mImage\u001b[0m\u001b[0;34m\u001b[0m\u001b[0;34m\u001b[0m\u001b[0m\n\u001b[1;32m      3\u001b[0m \u001b[0;32mimport\u001b[0m \u001b[0mnumpy\u001b[0m \u001b[0;32mas\u001b[0m \u001b[0mnp\u001b[0m\u001b[0;34m\u001b[0m\u001b[0;34m\u001b[0m\u001b[0m\n\u001b[1;32m      4\u001b[0m \u001b[0;32mfrom\u001b[0m \u001b[0mtensorflow\u001b[0m\u001b[0;34m.\u001b[0m\u001b[0mkeras\u001b[0m\u001b[0;34m.\u001b[0m\u001b[0mpreprocessing\u001b[0m \u001b[0;32mimport\u001b[0m \u001b[0mimage\u001b[0m\u001b[0;34m\u001b[0m\u001b[0;34m\u001b[0m\u001b[0m\n\u001b[1;32m      5\u001b[0m \u001b[0;32mfrom\u001b[0m \u001b[0mtensorflow\u001b[0m\u001b[0;34m.\u001b[0m\u001b[0mkeras\u001b[0m\u001b[0;34m.\u001b[0m\u001b[0mmodels\u001b[0m \u001b[0;32mimport\u001b[0m \u001b[0mload_model\u001b[0m\u001b[0;34m\u001b[0m\u001b[0;34m\u001b[0m\u001b[0m\n",
            "\u001b[0;31mModuleNotFoundError\u001b[0m: No module named 'streamlit'",
            "",
            "\u001b[0;31m---------------------------------------------------------------------------\u001b[0;32m\nNOTE: If your import is failing due to a missing package, you can\nmanually install dependencies using either !pip or !apt.\n\nTo view examples of installing some common dependencies, click the\n\"Open Examples\" button below.\n\u001b[0;31m---------------------------------------------------------------------------\u001b[0m\n"
          ],
          "errorDetails": {
            "actions": [
              {
                "action": "open_url",
                "actionText": "Open Examples",
                "url": "/notebooks/snippets/importing_libraries.ipynb"
              }
            ]
          }
        }
      ]
    }
  ]
}